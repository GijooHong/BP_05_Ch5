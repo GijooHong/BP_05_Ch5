{
  "nbformat": 4,
  "nbformat_minor": 0,
  "metadata": {
    "colab": {
      "provenance": [],
      "authorship_tag": "ABX9TyM66yrBKGPeJyDogsQYa4oB",
      "include_colab_link": true
    },
    "kernelspec": {
      "name": "python3",
      "display_name": "Python 3"
    },
    "language_info": {
      "name": "python"
    }
  },
  "cells": [
    {
      "cell_type": "markdown",
      "metadata": {
        "id": "view-in-github",
        "colab_type": "text"
      },
      "source": [
        "<a href=\"https://colab.research.google.com/github/GijooHong/BP_05_Ch5/blob/main/BP_05_Ch5.ipynb\" target=\"_parent\"><img src=\"https://colab.research.google.com/assets/colab-badge.svg\" alt=\"Open In Colab\"/></a>"
      ]
    },
    {
      "cell_type": "markdown",
      "source": [
        "1.다음 프로그램의 출력은 무엇인가?\n",
        "  \n",
        "  age = 20\n",
        "  \n",
        "  if age < 20:\n",
        "   \n",
        "    print('20살 미만')\n",
        " \n",
        "  else:\n",
        "    \n",
        "    print('20살 이상')"
      ],
      "metadata": {
        "id": "q-HvSb_xgIff"
      }
    },
    {
      "cell_type": "code",
      "execution_count": null,
      "metadata": {
        "colab": {
          "base_uri": "https://localhost:8080/"
        },
        "id": "S1N42pewgBBB",
        "outputId": "9c06cded-0cbf-4238-fdde-8e6527dd2777"
      },
      "outputs": [
        {
          "output_type": "stream",
          "name": "stdout",
          "text": [
            "20살 이상\n"
          ]
        }
      ],
      "source": [
        "age = 20\n",
        "if age < 20:\n",
        "  print('20살 미만')\n",
        "else:\n",
        "  print('20살 이상')"
      ]
    },
    {
      "cell_type": "markdown",
      "source": [
        "2.  1번 문제에서 age가 30이상이고 50이하인 것을 체크하려면 어떻게 하여야 하는가?"
      ],
      "metadata": {
        "id": "NLJPPL6IhBq8"
      }
    },
    {
      "cell_type": "code",
      "source": [
        "age = 20\n",
        "if age >= 30 and age <= 50:\n",
        "  print('30살 이상이고 50살 이하')\n",
        "else:\n",
        "  print('30살 이하 혹은 50살 이상') \n",
        "  "
      ],
      "metadata": {
        "colab": {
          "base_uri": "https://localhost:8080/"
        },
        "id": "B-kaP68IhKl0",
        "outputId": "d79f05fa-257d-43ae-d8fe-5efa237b2701"
      },
      "execution_count": null,
      "outputs": [
        {
          "output_type": "stream",
          "name": "stdout",
          "text": [
            "30살 이하 혹은 50살 이상\n"
          ]
        }
      ]
    },
    {
      "cell_type": "markdown",
      "source": [
        "3.사용자에게 현재 온도를 질문하고 온도가 25도 이상이면 반바지를 추천하고 25도 미만이면 긴바지를 추천하는 프로그램을 작성해보자."
      ],
      "metadata": {
        "id": "5Cqtq-QViY3i"
      }
    },
    {
      "cell_type": "code",
      "source": [
        "temp = int(input(\"현재 온도를 입력하시오: \"))\n",
        "\n",
        "if temp >= 25:\n",
        "  print(\"반바지를 입으세요\")\n",
        "else:\n",
        "  print(\"긴바지를 입으세요\")"
      ],
      "metadata": {
        "colab": {
          "base_uri": "https://localhost:8080/"
        },
        "id": "FI0ELlduii5x",
        "outputId": "fc6457be-4146-4b30-b174-c3610ba0d985"
      },
      "execution_count": null,
      "outputs": [
        {
          "output_type": "stream",
          "name": "stdout",
          "text": [
            "현재 온도를 입력하시오: 10\n",
            "긴바지를 입으세요\n"
          ]
        }
      ]
    },
    {
      "cell_type": "markdown",
      "source": [
        "4. 학생의 시험 점수를 물어보고 시험 점수가 90점 이상이면 A, 80점 이상이면 B, 70점 이상이면 C, 60점이상이면 D, 그외의 점수리면 F를 학점으로 주는 프로그램을 작성하라."
      ],
      "metadata": {
        "id": "YTq2Ne0IkDZz"
      }
    },
    {
      "cell_type": "code",
      "source": [
        "score = int(input(\"성적을 입력하시오:\"))\n",
        "\n",
        "if score >= 90:\n",
        "  print(\"A학점입니다.\")\n",
        "elif score >= 80:\n",
        "  print(\"B학점입니다.\") \n",
        "elif score >= 70:\n",
        "  print(\"C학점입니다.\")\n",
        "elif score >= 60:\n",
        "  print(\"D학점입니다.\")\n",
        "else :\n",
        "  print(\"F학점입니다.\")             "
      ],
      "metadata": {
        "colab": {
          "base_uri": "https://localhost:8080/"
        },
        "id": "0t0dpvH9kPW-",
        "outputId": "dc51d2ed-eb10-4ecc-92da-6891ed23381b"
      },
      "execution_count": null,
      "outputs": [
        {
          "output_type": "stream",
          "name": "stdout",
          "text": [
            "성적을 입력하시오:99\n",
            "A학점입니다.\n"
          ]
        }
      ]
    },
    {
      "cell_type": "markdown",
      "source": [
        "5. 난수를 사용하여 1부터 100 사이의 숫자를 사용하는 뺄셈 문제를 생성하고 사용자에게 물어본 후에 사용자의 답변이 올바른지를 검사하는 프로그램을 작성하라."
      ],
      "metadata": {
        "id": "7VqIb76lk5YU"
      }
    },
    {
      "cell_type": "code",
      "source": [
        "import random\n",
        "x = random.randint(1,100)\n",
        "y = random.randint(1,100)\n",
        "\n",
        "ans = int(input(str(x)+\"-\"+str(y)+\"=\"))\n",
        "\n",
        "if ans == x - y :\n",
        "  print(\"맞았습니다.\")\n",
        "else :\n",
        "  print(\"틀렸습니다.\")  "
      ],
      "metadata": {
        "colab": {
          "base_uri": "https://localhost:8080/"
        },
        "id": "9ibjSJKZlFSo",
        "outputId": "8dcc3fbf-2326-4ceb-ba99-8b52a00de407"
      },
      "execution_count": null,
      "outputs": [
        {
          "output_type": "stream",
          "name": "stdout",
          "text": [
            "84-60=24\n",
            "맞았습니다.\n"
          ]
        }
      ]
    },
    {
      "cell_type": "markdown",
      "source": [
        "6. 사용자로부터 정수를 받아서 이 정수가 2와 3으로 나누어떨어질 수 있는지를 출력하라."
      ],
      "metadata": {
        "id": "A-HmtyDkl7bA"
      }
    },
    {
      "cell_type": "code",
      "source": [
        "n = int(input(\"정수를 입력하시오: \"))\n",
        "\n",
        "if n%2==0 and n%3==0:\n",
        "  print(\"2와 3으로 나누어 떨어집니다.\")\n",
        "else :\n",
        "  print(\"2와 3으로 나누어 떨어지지 않습니다.\")  "
      ],
      "metadata": {
        "colab": {
          "base_uri": "https://localhost:8080/"
        },
        "id": "-F4Oq7PjmGZS",
        "outputId": "03f34e3d-6e54-4927-e7b7-98c03225395a"
      },
      "execution_count": null,
      "outputs": [
        {
          "output_type": "stream",
          "name": "stdout",
          "text": [
            "정수를 입력하시오: 6\n",
            "2와 3으로 나누어 떨어집니다.\n"
          ]
        }
      ]
    },
    {
      "cell_type": "markdown",
      "source": [
        "7. 2자리 숫자로 이루어진 복권이 있다. 사용자가 가지고 있는 복권 번호가 2자리 모두 일치하면 100만원을 받는다. 2자리 중에서 하나만 일치하면 50만원을 받는다. 하나도 일치하지 않으면 상금은 없다. 복권 당첨 번호는 난수로 생성하고 사용자의 입력에 따라서 상금이 얼마인지를 출력하는 프로그램을 작성하라."
      ],
      "metadata": {
        "id": "NMSXpDOYoP44"
      }
    },
    {
      "cell_type": "code",
      "source": [
        "import random\n",
        "\n",
        "solution = random.randint(0,99)\n",
        "\n",
        "user = int(input(\"복권번호를 입력하시오(0에서 99사이):\"))\n",
        "\n",
        "digit1 = solution // 10\n",
        "digit2 = solution % 10\n",
        "\n",
        "u_digit1 = user // 10\n",
        "u_digit2 = user % 10\n",
        "\n",
        "print(\"당첨번호는\", solution, \"입니다.\")\n",
        "\n",
        "if (digit1 == u_digit1 and digit2 == u_digit2):\n",
        "  print(\"상금은 100만원입니다.\")\n",
        "elif (digit1 == u_digit1\n",
        "        or digit1 == u_digit2\n",
        "        or digit2 == u_digit1\n",
        "        or digit2 == u_digit2):\n",
        "  print(\"상금은 50만원입니다.\")\n",
        "else:\n",
        "  print(\"상금은 없습니다.\")   "
      ],
      "metadata": {
        "colab": {
          "base_uri": "https://localhost:8080/"
        },
        "id": "h119Jugzohd0",
        "outputId": "a0e1d431-11e4-44e9-d536-969166592d3e"
      },
      "execution_count": null,
      "outputs": [
        {
          "output_type": "stream",
          "name": "stdout",
          "text": [
            "복권번호를 입력하시오(0에서 99사이):67\n",
            "당첨번호는 26 입니다.\n",
            "상금은 50만원입니다.\n"
          ]
        }
      ]
    },
    {
      "cell_type": "markdown",
      "source": [
        "8. 사용자로부터 2개의 원에 대한 정보를 받아서 화면에 원을 그린 후에 조건문을 사용하여 큰 원안에 있는 작은 원이 포함되는지를 판단하는 프로그램을 작성하라.\n",
        "\n",
        "큰원의 중심좌표 x1: 0\n",
        " 큰원의 중심좌표 y1: 0\n",
        "큰원의 반지름: 100 \n",
        "작은 원의 중심좌표 x2: 10 \n",
        "작은 원의 중심좌표 y2: 10\n",
        "작은 원의 반지름: 50"
      ],
      "metadata": {
        "id": "doFPndDjp8Ir"
      }
    },
    {
      "cell_type": "code",
      "source": [
        "import turtle\n",
        "t = turtle.Turtle()\n",
        "t.shape(\"turtle\")\n",
        "\n",
        "x1 = int(input(\"큰 원의 중심좌표 x1:\"))\n",
        "y1 = int(input(\"큰 원의 중심좌표 y1:\"))\n",
        "r1 = int(input(\"큰 원의 반지름:\"))\n",
        "x2 = int(input(\"작은 원의 중심좌표 x2:\"))\n",
        "y2 = int(input(\"작은 원의 중심좌표 y2:\"))\n",
        "r2 = int(input(\"작은 원의 반지름:\"))\n",
        "\n",
        "t.penup()\n",
        "t.goto(x1, y1)\n",
        "t.pendown()\n",
        "t.circle(r1)\n",
        "\n",
        "t.penup()\n",
        "t.goto(x2, y2)\n",
        "t.pendown()\n",
        "t.circle(r2)\n",
        "\n",
        "dist = ((x1 - x2) * (x1 - x2) + (y1 - y2) * (y1 - y2)) ** 0.5\n",
        "if dist <= r1-r2:\n",
        "    turtle.write(\"두번째 원이 첫번째 원의 내부에 있습니다.\")\n",
        "elif dist <= r1+r2:\n",
        "    turtle.write(\"두번째 원이 첫번째 원과 겹칩니다.\")  \n",
        "else:\n",
        "    turtle.write(\"두번째 원이 첫번째 원과 겹치지 않습니다.\")\n",
        "t._screen.exitonclick() #이 코드는 화면을 마우스로 클릭해야 종료되게 하는 부분이다.    "
      ],
      "metadata": {
        "id": "X0gshNkVqFyi"
      },
      "execution_count": null,
      "outputs": []
    },
    {
      "cell_type": "markdown",
      "source": [
        "8번은(그리고 다른 터틀 그래픽 문제들은) shift+윈도우키+S 누르고 화면 드래고 해서 캡쳐 후 파워포인트 들어가서 png로 저장후 Ex:Bp 5-8.py ?? (연습문제 5장 8번 문제라는 뜻) github 들가서 해당 장의 리포짓트리 들가서 add file > upload file > png 파일(내가 직접 실행하고 돌려봤다는 증거)을 마우스로 드래고 해서 commit으로 저장. "
      ],
      "metadata": {
        "id": "Q7Ez0iEnsiWn"
      }
    }
  ]
}